{
 "cells": [
  {
   "cell_type": "markdown",
   "metadata": {},
   "source": [
    "## 『本次練習內容』\n",
    "#### 運用這幾天所學觀念搭建一個CNN分類器"
   ]
  },
  {
   "cell_type": "markdown",
   "metadata": {},
   "source": [
    "## 『本次練習目的』\n",
    "  #### 熟悉CNN分類器搭建步驟與原理\n",
    "  #### 學員們可以嘗試不同搭法，如使用不同的Maxpooling層，用GlobalAveragePooling取代Flatten等等"
   ]
  },
  {
   "cell_type": "code",
   "execution_count": 1,
   "metadata": {},
   "outputs": [
    {
     "name": "stderr",
     "output_type": "stream",
     "text": [
      "Using TensorFlow backend.\n"
     ]
    }
   ],
   "source": [
    "from keras.models import Sequential\n",
    "from keras.layers import Convolution2D\n",
    "from keras.layers import MaxPooling2D\n",
    "from keras.layers import Flatten\n",
    "from keras.layers import Dense\n",
    "from keras.layers import Dropout\n",
    "from keras.layers import BatchNormalization\n",
    "from keras.datasets import cifar10\n",
    "import numpy as np\n",
    "import tensorflow as tf\n",
    "from sklearn.preprocessing import OneHotEncoder\n"
   ]
  },
  {
   "cell_type": "code",
   "execution_count": 2,
   "metadata": {},
   "outputs": [
    {
     "name": "stdout",
     "output_type": "stream",
     "text": [
      "(50000, 32, 32, 3)\n"
     ]
    }
   ],
   "source": [
    "(x_train, y_train), (x_test, y_test) = cifar10.load_data()\n",
    "\n",
    "print(x_train.shape) #(50000, 32, 32, 3)\n",
    "\n",
    "## Normalize Data\n",
    "def normalize(X_train,X_test):\n",
    "        mean = np.mean(X_train,axis=(0,1,2,3))\n",
    "        std = np.std(X_train, axis=(0, 1, 2, 3))\n",
    "        X_train = (X_train-mean)/(std+1e-7)\n",
    "        X_test = (X_test-mean)/(std+1e-7) \n",
    "        return X_train, X_test,mean,std\n",
    "    \n",
    "    \n",
    "## Normalize Training and Testset    \n",
    "x_train, x_test,mean_train,std_train = normalize(x_train, x_test) "
   ]
  },
  {
   "cell_type": "code",
   "execution_count": 3,
   "metadata": {},
   "outputs": [],
   "source": [
    "## OneHot Label 由(None, 1)-(None, 10)\n",
    "## ex. label=2,變成[0,0,1,0,0,0,0,0,0,0]\n",
    "one_hot=OneHotEncoder()\n",
    "y_train=one_hot.fit_transform(y_train).toarray()\n",
    "y_test=one_hot.transform(y_test).toarray()"
   ]
  },
  {
   "cell_type": "code",
   "execution_count": 4,
   "metadata": {},
   "outputs": [
    {
     "name": "stdout",
     "output_type": "stream",
     "text": [
      "Epoch 1/100\n",
      "50000/50000 [==============================] - 9s 173us/step - loss: 1.3521 - acc: 0.5566\n",
      "Epoch 2/100\n",
      "50000/50000 [==============================] - 8s 151us/step - loss: 0.7696 - acc: 0.7325\n",
      "Epoch 3/100\n",
      "50000/50000 [==============================] - 8s 152us/step - loss: 0.5067 - acc: 0.8230\n",
      "Epoch 4/100\n",
      "50000/50000 [==============================] - 8s 156us/step - loss: 0.3187 - acc: 0.8892\n",
      "Epoch 5/100\n",
      "50000/50000 [==============================] - 8s 160us/step - loss: 0.2005 - acc: 0.9317\n",
      "Epoch 6/100\n",
      "50000/50000 [==============================] - 8s 166us/step - loss: 0.1480 - acc: 0.9493\n",
      "Epoch 7/100\n",
      "50000/50000 [==============================] - 8s 163us/step - loss: 0.1235 - acc: 0.9575\n",
      "Epoch 8/100\n",
      "50000/50000 [==============================] - 8s 154us/step - loss: 0.1090 - acc: 0.9627\n",
      "Epoch 9/100\n",
      "50000/50000 [==============================] - 8s 151us/step - loss: 0.0963 - acc: 0.9679\n",
      "Epoch 10/100\n",
      "50000/50000 [==============================] - 8s 156us/step - loss: 0.0870 - acc: 0.9711\n",
      "Epoch 11/100\n",
      "50000/50000 [==============================] - 8s 155us/step - loss: 0.0891 - acc: 0.9703\n",
      "Epoch 12/100\n",
      "50000/50000 [==============================] - 8s 154us/step - loss: 0.0761 - acc: 0.9745\n",
      "Epoch 13/100\n",
      "50000/50000 [==============================] - 8s 155us/step - loss: 0.0591 - acc: 0.9797 0s - loss: 0.0587 -\n",
      "Epoch 14/100\n",
      "50000/50000 [==============================] - 8s 164us/step - loss: 0.0569 - acc: 0.9820\n",
      "Epoch 15/100\n",
      "50000/50000 [==============================] - 8s 158us/step - loss: 0.0600 - acc: 0.9797\n",
      "Epoch 16/100\n",
      "50000/50000 [==============================] - 8s 153us/step - loss: 0.0611 - acc: 0.9801\n",
      "Epoch 17/100\n",
      "50000/50000 [==============================] - 8s 166us/step - loss: 0.0554 - acc: 0.9817\n",
      "Epoch 18/100\n",
      "50000/50000 [==============================] - 8s 158us/step - loss: 0.0591 - acc: 0.9806\n",
      "Epoch 19/100\n",
      "50000/50000 [==============================] - 8s 159us/step - loss: 0.0389 - acc: 0.9872\n",
      "Epoch 20/100\n",
      "50000/50000 [==============================] - 8s 155us/step - loss: 0.0447 - acc: 0.9856\n",
      "Epoch 21/100\n",
      "50000/50000 [==============================] - 8s 155us/step - loss: 0.0451 - acc: 0.9858\n",
      "Epoch 22/100\n",
      "50000/50000 [==============================] - 8s 158us/step - loss: 0.0454 - acc: 0.9853\n",
      "Epoch 23/100\n",
      "50000/50000 [==============================] - 8s 162us/step - loss: 0.0432 - acc: 0.9859\n",
      "Epoch 24/100\n",
      "50000/50000 [==============================] - 8s 158us/step - loss: 0.0367 - acc: 0.9879\n",
      "Epoch 25/100\n",
      "50000/50000 [==============================] - 8s 155us/step - loss: 0.0309 - acc: 0.9901\n",
      "Epoch 26/100\n",
      "50000/50000 [==============================] - 8s 158us/step - loss: 0.0389 - acc: 0.9874\n",
      "Epoch 27/100\n",
      "50000/50000 [==============================] - 8s 150us/step - loss: 0.0403 - acc: 0.9873\n",
      "Epoch 28/100\n",
      "50000/50000 [==============================] - 8s 154us/step - loss: 0.0405 - acc: 0.9875\n",
      "Epoch 29/100\n",
      "50000/50000 [==============================] - 8s 169us/step - loss: 0.0300 - acc: 0.9906\n",
      "Epoch 30/100\n",
      "50000/50000 [==============================] - 8s 156us/step - loss: 0.0271 - acc: 0.9914\n",
      "Epoch 31/100\n",
      "50000/50000 [==============================] - 8s 159us/step - loss: 0.0359 - acc: 0.9887\n",
      "Epoch 32/100\n",
      "50000/50000 [==============================] - 8s 155us/step - loss: 0.0348 - acc: 0.9892\n",
      "Epoch 33/100\n",
      "50000/50000 [==============================] - 8s 152us/step - loss: 0.0271 - acc: 0.9914\n",
      "Epoch 34/100\n",
      "50000/50000 [==============================] - 8s 153us/step - loss: 0.0303 - acc: 0.9905\n",
      "Epoch 35/100\n",
      "50000/50000 [==============================] - 8s 153us/step - loss: 0.0279 - acc: 0.9918\n",
      "Epoch 36/100\n",
      "50000/50000 [==============================] - 8s 152us/step - loss: 0.0299 - acc: 0.9906\n",
      "Epoch 37/100\n",
      "50000/50000 [==============================] - 8s 154us/step - loss: 0.0265 - acc: 0.9914\n",
      "Epoch 38/100\n",
      "50000/50000 [==============================] - 8s 151us/step - loss: 0.0261 - acc: 0.9916\n",
      "Epoch 39/100\n",
      "50000/50000 [==============================] - 8s 153us/step - loss: 0.0243 - acc: 0.9926\n",
      "Epoch 40/100\n",
      "50000/50000 [==============================] - 8s 151us/step - loss: 0.0195 - acc: 0.9939 0s - loss: 0.0193 - acc: 0.9\n",
      "Epoch 41/100\n",
      "50000/50000 [==============================] - 8s 151us/step - loss: 0.0203 - acc: 0.9935\n",
      "Epoch 42/100\n",
      "50000/50000 [==============================] - 8s 151us/step - loss: 0.0278 - acc: 0.9915\n",
      "Epoch 43/100\n",
      "50000/50000 [==============================] - 8s 153us/step - loss: 0.0252 - acc: 0.9916\n",
      "Epoch 44/100\n",
      "50000/50000 [==============================] - 8s 152us/step - loss: 0.0243 - acc: 0.9921\n",
      "Epoch 45/100\n",
      "50000/50000 [==============================] - 8s 151us/step - loss: 0.0251 - acc: 0.9925\n",
      "Epoch 46/100\n",
      "50000/50000 [==============================] - 8s 151us/step - loss: 0.0227 - acc: 0.9931\n",
      "Epoch 47/100\n",
      "50000/50000 [==============================] - 8s 156us/step - loss: 0.0184 - acc: 0.9939\n",
      "Epoch 48/100\n",
      "50000/50000 [==============================] - 8s 153us/step - loss: 0.0214 - acc: 0.9936\n",
      "Epoch 49/100\n",
      "50000/50000 [==============================] - 8s 154us/step - loss: 0.0218 - acc: 0.9933\n",
      "Epoch 50/100\n",
      "50000/50000 [==============================] - 8s 154us/step - loss: 0.0235 - acc: 0.9930\n",
      "Epoch 51/100\n",
      "50000/50000 [==============================] - 8s 156us/step - loss: 0.0197 - acc: 0.9940\n",
      "Epoch 52/100\n",
      "50000/50000 [==============================] - 8s 155us/step - loss: 0.0180 - acc: 0.9948\n",
      "Epoch 53/100\n",
      "50000/50000 [==============================] - 8s 154us/step - loss: 0.0196 - acc: 0.9942\n",
      "Epoch 54/100\n",
      "50000/50000 [==============================] - 8s 154us/step - loss: 0.0235 - acc: 0.9927 0s - loss: 0.0234 - acc:\n",
      "Epoch 55/100\n",
      "50000/50000 [==============================] - 8s 154us/step - loss: 0.0168 - acc: 0.9952\n",
      "Epoch 56/100\n",
      "50000/50000 [==============================] - 8s 154us/step - loss: 0.0117 - acc: 0.9963\n",
      "Epoch 57/100\n",
      "50000/50000 [==============================] - 8s 154us/step - loss: 0.0190 - acc: 0.9946\n",
      "Epoch 58/100\n",
      "50000/50000 [==============================] - 8s 154us/step - loss: 0.0296 - acc: 0.9915\n",
      "Epoch 59/100\n",
      "50000/50000 [==============================] - 8s 153us/step - loss: 0.0183 - acc: 0.9945\n",
      "Epoch 60/100\n",
      "50000/50000 [==============================] - 8s 151us/step - loss: 0.0125 - acc: 0.9958\n",
      "Epoch 61/100\n",
      "50000/50000 [==============================] - 8s 153us/step - loss: 0.0140 - acc: 0.9958\n",
      "Epoch 62/100\n",
      "50000/50000 [==============================] - 8s 152us/step - loss: 0.0220 - acc: 0.9936\n",
      "Epoch 63/100\n",
      "50000/50000 [==============================] - 8s 151us/step - loss: 0.0213 - acc: 0.9934\n",
      "Epoch 64/100\n",
      "50000/50000 [==============================] - 8s 151us/step - loss: 0.0193 - acc: 0.9944\n",
      "Epoch 65/100\n",
      "50000/50000 [==============================] - 8s 152us/step - loss: 0.0115 - acc: 0.9965\n",
      "Epoch 66/100\n",
      "50000/50000 [==============================] - 8s 153us/step - loss: 0.0098 - acc: 0.9970\n",
      "Epoch 67/100\n",
      "50000/50000 [==============================] - 8s 154us/step - loss: 0.0163 - acc: 0.9949\n",
      "Epoch 68/100\n",
      "50000/50000 [==============================] - 8s 151us/step - loss: 0.0175 - acc: 0.9947\n",
      "Epoch 69/100\n",
      "50000/50000 [==============================] - 8s 153us/step - loss: 0.0170 - acc: 0.9946\n",
      "Epoch 70/100\n",
      "50000/50000 [==============================] - 8s 153us/step - loss: 0.0233 - acc: 0.9934\n",
      "Epoch 71/100\n",
      "50000/50000 [==============================] - 8s 153us/step - loss: 0.0124 - acc: 0.9961\n",
      "Epoch 72/100\n",
      "50000/50000 [==============================] - 8s 152us/step - loss: 0.0125 - acc: 0.9963\n",
      "Epoch 73/100\n",
      "50000/50000 [==============================] - 8s 151us/step - loss: 0.0109 - acc: 0.9967\n",
      "Epoch 74/100\n",
      "50000/50000 [==============================] - 8s 152us/step - loss: 0.0120 - acc: 0.9964\n",
      "Epoch 75/100\n",
      "50000/50000 [==============================] - 8s 151us/step - loss: 0.0209 - acc: 0.9937\n",
      "Epoch 76/100\n",
      "50000/50000 [==============================] - 8s 153us/step - loss: 0.0195 - acc: 0.9943\n",
      "Epoch 77/100\n",
      "50000/50000 [==============================] - 8s 152us/step - loss: 0.0104 - acc: 0.9967\n",
      "Epoch 78/100\n",
      "50000/50000 [==============================] - 8s 151us/step - loss: 0.0078 - acc: 0.9978\n",
      "Epoch 79/100\n"
     ]
    },
    {
     "name": "stdout",
     "output_type": "stream",
     "text": [
      "50000/50000 [==============================] - 8s 152us/step - loss: 0.0186 - acc: 0.9948\n",
      "Epoch 80/100\n",
      "50000/50000 [==============================] - 8s 152us/step - loss: 0.0226 - acc: 0.9940\n",
      "Epoch 81/100\n",
      "50000/50000 [==============================] - 8s 155us/step - loss: 0.0115 - acc: 0.9964\n",
      "Epoch 82/100\n",
      "50000/50000 [==============================] - 8s 151us/step - loss: 0.0119 - acc: 0.9965\n",
      "Epoch 83/100\n",
      "50000/50000 [==============================] - 8s 152us/step - loss: 0.0093 - acc: 0.9972\n",
      "Epoch 84/100\n",
      "50000/50000 [==============================] - 8s 165us/step - loss: 0.0095 - acc: 0.9973\n",
      "Epoch 85/100\n",
      "50000/50000 [==============================] - 8s 153us/step - loss: 0.0153 - acc: 0.9956\n",
      "Epoch 86/100\n",
      "50000/50000 [==============================] - 8s 157us/step - loss: 0.0121 - acc: 0.9963\n",
      "Epoch 87/100\n",
      "50000/50000 [==============================] - 8s 156us/step - loss: 0.0142 - acc: 0.9962\n",
      "Epoch 88/100\n",
      "50000/50000 [==============================] - 8s 160us/step - loss: 0.0174 - acc: 0.9949\n",
      "Epoch 89/100\n",
      "50000/50000 [==============================] - 8s 156us/step - loss: 0.0130 - acc: 0.9965\n",
      "Epoch 90/100\n",
      "50000/50000 [==============================] - 8s 155us/step - loss: 0.0130 - acc: 0.9961\n",
      "Epoch 91/100\n",
      "50000/50000 [==============================] - 8s 156us/step - loss: 0.0113 - acc: 0.9965\n",
      "Epoch 92/100\n",
      "50000/50000 [==============================] - 8s 154us/step - loss: 0.0116 - acc: 0.9965\n",
      "Epoch 93/100\n",
      "50000/50000 [==============================] - 8s 153us/step - loss: 0.0094 - acc: 0.9973\n",
      "Epoch 94/100\n",
      "50000/50000 [==============================] - 8s 153us/step - loss: 0.0101 - acc: 0.9973\n",
      "Epoch 95/100\n",
      "50000/50000 [==============================] - 8s 151us/step - loss: 0.0187 - acc: 0.9948\n",
      "Epoch 96/100\n",
      "50000/50000 [==============================] - 8s 152us/step - loss: 0.0142 - acc: 0.9958\n",
      "Epoch 97/100\n",
      "50000/50000 [==============================] - 8s 152us/step - loss: 0.0074 - acc: 0.9976\n",
      "Epoch 98/100\n",
      "50000/50000 [==============================] - 8s 151us/step - loss: 0.0038 - acc: 0.9990\n",
      "Epoch 99/100\n",
      "50000/50000 [==============================] - 8s 154us/step - loss: 0.0138 - acc: 0.9964\n",
      "Epoch 100/100\n",
      "50000/50000 [==============================] - 8s 153us/step - loss: 0.0170 - acc: 0.9955\n"
     ]
    },
    {
     "data": {
      "text/plain": [
       "<keras.callbacks.History at 0x21473ed68d0>"
      ]
     },
     "execution_count": 4,
     "metadata": {},
     "output_type": "execute_result"
    }
   ],
   "source": [
    "\n",
    "classifier=Sequential()\n",
    "\n",
    "#卷積組合\n",
    "classifier.add(Convolution2D(32, (3,3), input_shape=(32,32,3), activation='relu'))#32,3,3,input_shape=(32,32,3),activation='relu''\n",
    "classifier.add(BatchNormalization())\n",
    "\n",
    "'''自己決定MaxPooling2D放在哪裡'''\n",
    "classifier.add(MaxPooling2D(pool_size=(2,2)))\n",
    "\n",
    "#卷積組合\n",
    "classifier.add(Convolution2D(64, (3,3), activation='relu'))\n",
    "classifier.add(BatchNormalization())\n",
    "\n",
    "#flatten\n",
    "classifier.add(Flatten())\n",
    "\n",
    "#GlobalAveragePooling2D\n",
    "# classifier.add(GlobalAveragePooling2D())\n",
    "\n",
    "#FC\n",
    "classifier.add(Dense(100, activation='relu')) #output_dim=100,activation=relu\n",
    "\n",
    "#輸出\n",
    "classifier.add(Dense(units=10, activation='softmax'))\n",
    "\n",
    "#超過兩個就要選categorical_crossentrophy\n",
    "classifier.compile(optimizer = 'adam', loss = 'categorical_crossentropy', metrics = ['accuracy'])\n",
    "classifier.fit(x_train,y_train,batch_size=100,epochs=100)"
   ]
  },
  {
   "cell_type": "markdown",
   "metadata": {},
   "source": [
    "## 預測新圖片，輸入影像前處理要與訓練時相同\n",
    "#### ((X-mean)/(std+1e-7) ):這裡的mean跟std是訓練集的\n",
    "## 維度如下方示範"
   ]
  },
  {
   "cell_type": "code",
   "execution_count": 12,
   "metadata": {},
   "outputs": [
    {
     "data": {
      "text/plain": [
       "array([[7.0731280e-06, 5.0197828e-09, 6.5415583e-07, 9.9999177e-01,\n",
       "        7.3678869e-11, 4.3062880e-12, 5.3700190e-11, 8.3931245e-10,\n",
       "        5.2411730e-07, 2.2708951e-16]], dtype=float32)"
      ]
     },
     "execution_count": 12,
     "metadata": {},
     "output_type": "execute_result"
    }
   ],
   "source": [
    "input_example=(np.zeros(shape=(1,32,32,3))-mean_train)/(std_train+1e-7) \n",
    "classifier.predict(input_example)"
   ]
  },
  {
   "cell_type": "code",
   "execution_count": 13,
   "metadata": {},
   "outputs": [
    {
     "name": "stdout",
     "output_type": "stream",
     "text": [
      "10000/10000 [==============================] - 1s 112us/step\n"
     ]
    }
   ],
   "source": [
    "loss, accuracy = classifier.evaluate(x_test, y_test)"
   ]
  },
  {
   "cell_type": "code",
   "execution_count": 14,
   "metadata": {},
   "outputs": [
    {
     "name": "stdout",
     "output_type": "stream",
     "text": [
      "loss:3.364663809585571 / accuracy:67.67999999999999\n"
     ]
    }
   ],
   "source": [
    "print(\"loss:{} / accuracy:{}\".format(loss, accuracy*100))"
   ]
  },
  {
   "cell_type": "code",
   "execution_count": null,
   "metadata": {},
   "outputs": [],
   "source": []
  }
 ],
 "metadata": {
  "kernelspec": {
   "display_name": "Python 3",
   "language": "python",
   "name": "python3"
  },
  "language_info": {
   "codemirror_mode": {
    "name": "ipython",
    "version": 3
   },
   "file_extension": ".py",
   "mimetype": "text/x-python",
   "name": "python",
   "nbconvert_exporter": "python",
   "pygments_lexer": "ipython3",
   "version": "3.5.4"
  }
 },
 "nbformat": 4,
 "nbformat_minor": 2
}
